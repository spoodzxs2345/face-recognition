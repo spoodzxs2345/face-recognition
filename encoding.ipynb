{
 "cells": [
  {
   "cell_type": "code",
   "execution_count": 4,
   "metadata": {},
   "outputs": [],
   "source": [
    "import face_recognition\n",
    "import os\n",
    "import pickle\n",
    "import cv2"
   ]
  },
  {
   "cell_type": "code",
   "execution_count": 2,
   "metadata": {},
   "outputs": [],
   "source": [
    "def read_image(path):\n",
    "    img = cv2.imread(path)\n",
    "    (h, w) = img.shape[:2]\n",
    "    width = 500\n",
    "    ratio = width / float(w)\n",
    "    height = int(h * ratio)\n",
    "    return cv2.resize(img, (width, height))"
   ]
  },
  {
   "cell_type": "code",
   "execution_count": 10,
   "metadata": {},
   "outputs": [
    {
     "name": "stdout",
     "output_type": "stream",
     "text": [
      "No face found in Stephanie Canilang (mask).jpg\n"
     ]
    }
   ],
   "source": [
    "known_encodings = []\n",
    "known_names = []\n",
    "known_dir = 'C:/Users/Delsie/Desktop/projects/face_recognition/encode/known'\n",
    "\n",
    "for file in os.listdir(known_dir):\n",
    "    try:\n",
    "        img = read_image(known_dir + '/' + file)\n",
    "        img_encoding = face_recognition.face_encodings(img)[0]\n",
    "        known_encodings.append(img_encoding)\n",
    "        known_names.append(file.split('.')[0])\n",
    "    except:\n",
    "        print('No face found in ' + file)"
   ]
  },
  {
   "cell_type": "code",
   "execution_count": 11,
   "metadata": {},
   "outputs": [
    {
     "name": "stdout",
     "output_type": "stream",
     "text": [
      "['Adrian Cuevas', 'Charles Dela Cruz', 'Emmanuel Villagra', 'Francis Aduna', 'Jemuel Juablar', 'John Paolo Espiritu', 'Kenn Valencia', 'Kyle Cepe (mask)', 'Kyle Cepe', 'Stephanie Canilang']\n"
     ]
    }
   ],
   "source": [
    "print(known_names)"
   ]
  },
  {
   "cell_type": "code",
   "execution_count": null,
   "metadata": {},
   "outputs": [],
   "source": [
    "data = {'encodings': known_encodings, 'names': known_names}\n",
    "\n",
    "f = open('C:/Users/Delsie/Desktop/projects/face_recognition/encodings', 'wb')\n",
    "f.write(pickle.dumps(data))\n",
    "f.close()"
   ]
  }
 ],
 "metadata": {
  "kernelspec": {
   "display_name": "Python 3",
   "language": "python",
   "name": "python3"
  },
  "language_info": {
   "codemirror_mode": {
    "name": "ipython",
    "version": 3
   },
   "file_extension": ".py",
   "mimetype": "text/x-python",
   "name": "python",
   "nbconvert_exporter": "python",
   "pygments_lexer": "ipython3",
   "version": "3.10.11"
  }
 },
 "nbformat": 4,
 "nbformat_minor": 2
}
